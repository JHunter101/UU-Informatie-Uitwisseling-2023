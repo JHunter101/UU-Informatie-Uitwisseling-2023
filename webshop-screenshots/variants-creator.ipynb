{
 "cells": [
  {
   "cell_type": "code",
   "execution_count": 4,
   "metadata": {},
   "outputs": [],
   "source": [
    "import os\n",
    "import random\n",
    "from PIL import Image"
   ]
  },
  {
   "cell_type": "code",
   "execution_count": 5,
   "metadata": {},
   "outputs": [],
   "source": [
    "def create_subimages(input_path, output_path, subimage_size, num_subimages):\n",
    "    # Create the output directory if it doesn't exist\n",
    "    if not os.path.exists(output_path):\n",
    "        os.makedirs(output_path)\n",
    "\n",
    "    # Iterate through each image in the input folder\n",
    "    for filename in os.listdir(input_path):\n",
    "        if filename.endswith((\".jpg\", \".jpeg\", \".png\")):\n",
    "            image_path = os.path.join(input_path, filename)\n",
    "\n",
    "            # Open the image\n",
    "            with Image.open(image_path) as img:\n",
    "                # Get the width and height of the image\n",
    "                width, height = img.size\n",
    "\n",
    "                # Create and save subimages\n",
    "                for i in range(1, num_subimages + 1):\n",
    "                    # Randomly select the region for the subimage\n",
    "                    left = random.randint(0, width - subimage_size)\n",
    "                    upper = random.randint(0, height - subimage_size)\n",
    "                    right = left + subimage_size\n",
    "                    lower = upper + subimage_size\n",
    "\n",
    "                    # Crop the image to the selected region\n",
    "                    subimage = img.crop((left, upper, right, lower))\n",
    "\n",
    "                    # Save the subimage with a suffix\n",
    "                    subimage_filename = f\"{os.path.splitext(filename)[0]}_{i}.png\"\n",
    "                    subimage_path = os.path.join(output_path, subimage_filename)\n",
    "                    subimage.save(subimage_path)"
   ]
  },
  {
   "cell_type": "code",
   "execution_count": 19,
   "metadata": {},
   "outputs": [],
   "source": [
    "if __name__ == \"__main__\":\n",
    "    # Set the input and output paths\n",
    "    input_folder = \"blurred\"\n",
    "    output_folder = \"variants\"\n",
    "\n",
    "    # Set the subimage size and the number of subimages to create\n",
    "    subimage_size = 500  # adjust this based on your needs\n",
    "    num_subimages = 5\n",
    "\n",
    "    # Call the function to create subimages\n",
    "    create_subimages(input_folder, output_folder, subimage_size, num_subimages)"
   ]
  }
 ],
 "metadata": {
  "kernelspec": {
   "display_name": "base",
   "language": "python",
   "name": "python3"
  },
  "language_info": {
   "codemirror_mode": {
    "name": "ipython",
    "version": 3
   },
   "file_extension": ".py",
   "mimetype": "text/x-python",
   "name": "python",
   "nbconvert_exporter": "python",
   "pygments_lexer": "ipython3",
   "version": "3.9.13"
  }
 },
 "nbformat": 4,
 "nbformat_minor": 2
}
