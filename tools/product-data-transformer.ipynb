{
 "cells": [
  {
   "cell_type": "code",
   "execution_count": 14,
   "metadata": {},
   "outputs": [
    {
     "name": "stdout",
     "output_type": "stream",
     "text": [
      "Current Working Directory: g:\\My Drive\\Github\\tsPages\\Websites\\ie-webshop\\tools\n"
     ]
    }
   ],
   "source": [
    "import csv\n",
    "import json"
   ]
  },
  {
   "cell_type": "code",
   "execution_count": 15,
   "metadata": {},
   "outputs": [],
   "source": [
    "def convert_csv_to_json(csv_file):\n",
    "    result = {}\n",
    "\n",
    "    with open(csv_file, \"r\") as csvfile:\n",
    "        reader = csv.DictReader(csvfile)\n",
    "        for row in reader:\n",
    "            pid = row[\"pid\"]\n",
    "            vid = row[\"vid\"]\n",
    "\n",
    "            if pid not in result:\n",
    "                result[pid] = {\n",
    "                    \"p-name\": row[\"p-name\"],\n",
    "                    \"sizes\": row[\"sizes\"].split(\",\"),\n",
    "                    \"v-ids\": [],\n",
    "                    \"costs\": row[\"cost\"],\n",
    "                }\n",
    "\n",
    "            result[pid][\"v-ids\"].append(vid)\n",
    "\n",
    "            result[pid][f\"vid_{vid}\"] = {\n",
    "                \"v-name\": row[\"v-name\"],\n",
    "                \"image-front\": row[\"image-front\"],\n",
    "                \"image-back\": row[\"image-back\"],\n",
    "                \"image-extra\": row[\"image-extra\"],\n",
    "                \"image-worn\": row[\"image-worn\"],\n",
    "            }\n",
    "\n",
    "    return result"
   ]
  },
  {
   "cell_type": "code",
   "execution_count": 16,
   "metadata": {},
   "outputs": [],
   "source": [
    "csv_file = (\n",
    "    \"../res/clothes/data/clothes-data.csv\"  # Replace with the actual CSV file path\n",
    ")\n",
    "json_data = convert_csv_to_json(csv_file)\n",
    "\n",
    "with open(\"../res/clothes/data/clothes-data.json\", \"w\") as jsonfile:\n",
    "    json.dump(json_data, jsonfile, indent=2)"
   ]
  }
 ],
 "metadata": {
  "kernelspec": {
   "display_name": "base",
   "language": "python",
   "name": "python3"
  },
  "language_info": {
   "codemirror_mode": {
    "name": "ipython",
    "version": 3
   },
   "file_extension": ".py",
   "mimetype": "text/x-python",
   "name": "python",
   "nbconvert_exporter": "python",
   "pygments_lexer": "ipython3",
   "version": "3.9.13"
  }
 },
 "nbformat": 4,
 "nbformat_minor": 2
}
